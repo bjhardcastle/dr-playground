{
 "cells": [
  {
   "cell_type": "code",
   "execution_count": null,
   "id": "e03b641d",
   "metadata": {},
   "outputs": [],
   "source": [
    "import polars as pl\n",
    "\n",
    "def lf(table_name: str) -> pl.LazyFrame:\n",
    "    return pl.scan_parquet(f'/data/{table_name}.parquet')\n",
    "\n",
    "lf('performance').collect()"
   ]
  }
 ],
 "metadata": {
  "language_info": {
   "name": "python"
  }
 },
 "nbformat": 4,
 "nbformat_minor": 5
}

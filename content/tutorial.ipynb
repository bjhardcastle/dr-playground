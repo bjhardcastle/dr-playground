{
 "cells": [
  {
   "cell_type": "code",
   "execution_count": null,
   "id": "e03b641d",
   "metadata": {},
   "outputs": [],
   "source": [
    "import functools\n",
    "\n",
    "import polars as pl\n",
    "import pyarrow.parquet as pq\n",
    "import altair as alt\n",
    "\n",
    "@functools.cache\n",
    "def get_df(table_name: str) -> pl.DataFrame:\n",
    "    table = pq.read_table(f'data/{table_name}.parquet')\n",
    "    return pl.from_arrow(table)"
   ]
  },
  {
   "cell_type": "code",
   "execution_count": null,
   "id": "6b5d118f",
   "metadata": {},
   "outputs": [],
   "source": [
    "(\n",
    "    get_df('trials')\n",
    "    .filter(\n",
    "        # get random subset of sessions:\n",
    "        pl.col('session_id') == pl.col('session_id').sample(1).first(),\n",
    "    )\n",
    "    .plot.scatter(\n",
    "        x='trial_index_in_block',\n",
    "        color='is_instruction',\n",
    "        column='block_index',\n",
    "        row='rewarded_modality',\n",
    "        y='is_response',\n",
    "    )\n",
    "    .properties(width=200)\n",
    "    .resolve_scale(x='independent')\n",
    ")  "
   ]
  },
  {
   "cell_type": "code",
   "execution_count": null,
   "id": "99b160ad",
   "metadata": {},
   "outputs": [],
   "source": [
    "get_df('performance').schema"
   ]
  },
  {
   "cell_type": "code",
   "execution_count": null,
   "id": "09b69ad9",
   "metadata": {},
   "outputs": [],
   "source": [
    "(\n",
    "    get_df('performance')\n",
    "    .plot.scatter(\n",
    "        x='date:T',\n",
    "        y='signed_cross_modality_dprime',\n",
    "        color='rewarded_modality',\n",
    "    )\n",
    ")"
   ]
  },
  {
   "cell_type": "code",
   "execution_count": null,
   "id": "ded4e805",
   "metadata": {},
   "outputs": [],
   "source": [
    "(\n",
    "    get_df('units')\n",
    "    .group_by('structure')\n",
    "    .agg(\n",
    "        pl.col('ccf_ap').median(),\n",
    "        pl.col('ccf_dv').median(),\n",
    "        pl.col('unit_id').n_unique().alias('n_units'),\n",
    "    )\n",
    "    .plot.scatter(\n",
    "        x=alt.X('ccf_ap').scale(zero=False), \n",
    "        y=alt.Y('ccf_dv').scale(reverse=True, zero=False),\n",
    "        size='n_units',\n",
    "        color=alt.Color('structure', legend=None),\n",
    "    )\n",
    ")"
   ]
  }
 ],
 "metadata": {
  "language_info": {
   "name": "python"
  }
 },
 "nbformat": 4,
 "nbformat_minor": 5
}

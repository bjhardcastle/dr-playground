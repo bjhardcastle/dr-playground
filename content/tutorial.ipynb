{
 "cells": [
  {
   "cell_type": "code",
   "execution_count": null,
   "id": "e03b641d",
   "metadata": {},
   "outputs": [],
   "source": [
    "import polars as pl\n",
    "import pyarrow.parquet as pq\n",
    "import altair as alt\n",
    "\n",
    "def get_df(table_name: str) -> pl.DataFrame:\n",
    "    table = pq.read_table(f'data/{table_name}.parquet')\n",
    "    return pl.from_arrow(table)"
   ]
  },
  {
   "cell_type": "code",
   "execution_count": null,
   "id": "6b5d118f",
   "metadata": {},
   "outputs": [],
   "source": [
    "get_df('performance')"
   ]
  }
 ],
 "metadata": {
  "language_info": {
   "name": "python"
  }
 },
 "nbformat": 4,
 "nbformat_minor": 5
}
